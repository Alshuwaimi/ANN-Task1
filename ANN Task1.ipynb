{
 "cells": [
  {
   "cell_type": "code",
   "execution_count": 8,
   "id": "60466feb-985e-4461-9735-c150ed50bc31",
   "metadata": {},
   "outputs": [
    {
     "name": "stdout",
     "output_type": "stream",
     "text": [
      "Output : o1 = 0.7383410016485076, o2 = 0.5766706110023675\n",
      "error output 1 : 0.20373961719281\n",
      "error output 2 : 0.0854205919045781\n",
      "Total Error : 0.2891602090973881\n"
     ]
    }
   ],
   "source": [
    "import random\n",
    "import numpy as np\n",
    "w1 = random.uniform(-0.5, 0.5)  \n",
    "w2 = random.uniform(-0.5, 0.5)  \n",
    "w3 = random.uniform(-0.5, 0.5)  \n",
    "w4 = random.uniform(-0.5, 0.5)  \n",
    "w5 = random.uniform(-0.5, 0.5)  \n",
    "w6 = random.uniform(-0.5, 0.5)  \n",
    "w7 = random.uniform(-0.5, 0.5)  \n",
    "w8 = random.uniform(-0.5, 0.5)  \n",
    "\n",
    "b1, b2= 0.5 , 0.7\n",
    "inp1 , inp2 = 0.05 , 0.1\n",
    "\n",
    "def tanh(x):\n",
    "    return (np.exp(x) - np.exp(-x)) / (np.exp(x) + np.exp(-x))\n",
    "\n",
    "Net_h1 = (w1 * inp1) + (w2 * inp2)  + b1\n",
    "Out_h1 = tanh(Net_h1)\n",
    "Net_h2 = (w3 * inp1) + (w4 * inp2) + b1\n",
    "Out_h2 = tanh(Net_h2)\n",
    "\n",
    "Net_o1 = (w5 * Out_h1) + (w6 * Out_h2) + b2\n",
    "Out_o1 = tanh(Net_o1)\n",
    "Net_o2 = (w7 * Out_h1) + (w8 * Out_h2) + b2\n",
    "Out_o2 = tanh(Net_o2)\n",
    "\n",
    "print(f\"Output : o1 = {Out_o1}, o2 = {Out_o2}\")\n",
    "\n",
    "target = [0.1, 0.99]\n",
    "\n",
    "Error_o1 = 0.5 * ((target[0] - Out_o1)**2)\n",
    "print(f\"error output 1 : {Error_o1}\")\n",
    "\n",
    "Error_o2 = 0.5 * ((target[1] - Out_o2)**2)\n",
    "print(f\"error output 2 : {Error_o2}\")\n",
    "\n",
    "Error_total = Error_o1 + Error_o2\n",
    "print(f\"Total Error : {Error_total}\")\n"
   ]
  },
  {
   "cell_type": "code",
   "execution_count": null,
   "id": "92985c49-d4b4-4702-9707-f4306ccfb4c6",
   "metadata": {},
   "outputs": [],
   "source": []
  },
  {
   "cell_type": "code",
   "execution_count": null,
   "id": "cba26d28-56a5-4930-9e8b-6f9e128f4031",
   "metadata": {},
   "outputs": [],
   "source": []
  }
 ],
 "metadata": {
  "kernelspec": {
   "display_name": "Python 3 (ipykernel)",
   "language": "python",
   "name": "python3"
  },
  "language_info": {
   "codemirror_mode": {
    "name": "ipython",
    "version": 3
   },
   "file_extension": ".py",
   "mimetype": "text/x-python",
   "name": "python",
   "nbconvert_exporter": "python",
   "pygments_lexer": "ipython3",
   "version": "3.11.7"
  }
 },
 "nbformat": 4,
 "nbformat_minor": 5
}
